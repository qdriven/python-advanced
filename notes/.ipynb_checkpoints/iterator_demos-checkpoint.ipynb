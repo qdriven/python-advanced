{
 "cells": [
  {
   "cell_type": "markdown",
   "metadata": {},
   "source": [
    "### 迭代和可迭代\n",
    "\n",
    "- Iteration,迭代\n",
    "- Iterable,可迭代： 含有 `__iter__()` 方法或 `__getitem__()` 方法的对象称之为***可迭代对象***"
   ]
  },
  {
   "cell_type": "code",
   "execution_count": 1,
   "metadata": {},
   "outputs": [
    {
     "name": "stdout",
     "output_type": "stream",
     "text": [
      "1\n",
      "2\n",
      "3\n",
      "4\n"
     ]
    }
   ],
   "source": [
    "numbers=[1,2,3,4]\n",
    "for num in numbers:\n",
    "    print(num)"
   ]
  },
  {
   "cell_type": "markdown",
   "metadata": {},
   "source": [
    "### dict,tuple,set,string 都是可迭代对象\n",
    "\n",
    "**虽然元组、列表和字典等对象是可迭代的，但它们却不是迭代器！**"
   ]
  },
  {
   "cell_type": "code",
   "execution_count": null,
   "metadata": {},
   "outputs": [],
   "source": [
    "from collections.abc import Iterable,Iterator\n",
    "\n",
    "print(isinstance((),Iterable))\n",
    "print(isinstance([],Iterable))\n",
    "print(isinstance({},Iterable))\n",
    "print(isinstance('abc',Iterable))\n",
    "print(isinstance(100,Iterable))"
   ]
  },
  {
   "cell_type": "markdown",
   "metadata": {},
   "source": [
    "### 迭代器\n",
    "\n",
    "- 需要实现python3 需要实现 `__iter__()`和`__next__()` 方法\n",
    "- `next()`方法返回容器的下一个元素\n",
    "- 如果没有后续元素，返回`StopIteration`异常"
   ]
  },
  {
   "cell_type": "code",
   "execution_count": 11,
   "metadata": {},
   "outputs": [
    {
     "name": "stdout",
     "output_type": "stream",
     "text": [
      "True\n",
      "False\n",
      "True\n",
      "False\n",
      "False\n",
      "False\n",
      "False\n",
      "False\n",
      "False\n"
     ]
    }
   ],
   "source": [
    "from collections.abc import Iterable,Iterator\n",
    "\n",
    "print(hasattr((1, 2, 3), '__iter__'))\n",
    "print(hasattr((1, 2, 3), '__next__'))\n",
    "print(hasattr([1, 2, 3], '__iter__'))\n",
    "print(hasattr([1, 2, 3], '__next__'))\n",
    "print(isinstance((),Iterator))\n",
    "print(isinstance([],Iterator))\n",
    "print(isinstance({},Iterator))\n",
    "print(isinstance('abc',Iterator))\n",
    "print(isinstance(100,Iterator))"
   ]
  },
  {
   "cell_type": "code",
   "execution_count": null,
   "metadata": {},
   "outputs": [],
   "source": []
  }
 ],
 "metadata": {
  "kernelspec": {
   "display_name": "Python 3",
   "language": "python",
   "name": "python3"
  },
  "language_info": {
   "codemirror_mode": {
    "name": "ipython",
    "version": 3
   },
   "file_extension": ".py",
   "mimetype": "text/x-python",
   "name": "python",
   "nbconvert_exporter": "python",
   "pygments_lexer": "ipython3",
   "version": "3.7.4"
  }
 },
 "nbformat": 4,
 "nbformat_minor": 2
}
